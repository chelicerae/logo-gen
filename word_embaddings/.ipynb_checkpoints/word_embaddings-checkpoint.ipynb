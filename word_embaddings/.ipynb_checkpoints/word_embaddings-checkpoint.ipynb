{
 "cells": [
  {
   "cell_type": "code",
   "execution_count": 174,
   "metadata": {},
   "outputs": [],
   "source": [
    "import pandas as pd\n",
    "import numpy as np"
   ]
  },
  {
   "cell_type": "code",
   "execution_count": 203,
   "metadata": {},
   "outputs": [
    {
     "data": {
      "text/html": [
       "<div>\n",
       "<style scoped>\n",
       "    .dataframe tbody tr th:only-of-type {\n",
       "        vertical-align: middle;\n",
       "    }\n",
       "\n",
       "    .dataframe tbody tr th {\n",
       "        vertical-align: top;\n",
       "    }\n",
       "\n",
       "    .dataframe thead th {\n",
       "        text-align: right;\n",
       "    }\n",
       "</style>\n",
       "<table border=\"1\" class=\"dataframe\">\n",
       "  <thead>\n",
       "    <tr style=\"text-align: right;\">\n",
       "      <th></th>\n",
       "      <th>nid</th>\n",
       "      <th>name</th>\n",
       "      <th>total_price</th>\n",
       "      <th>description</th>\n",
       "      <th>possible uses</th>\n",
       "      <th>categories</th>\n",
       "      <th>keywords</th>\n",
       "    </tr>\n",
       "  </thead>\n",
       "  <tbody>\n",
       "    <tr>\n",
       "      <th>18610</th>\n",
       "      <td>85346</td>\n",
       "      <td>incryptic.com</td>\n",
       "      <td>3475</td>\n",
       "      <td>In Cryptic: A stealthy name that implies impli...</td>\n",
       "      <td>A security firm. An operational tool. A techno...</td>\n",
       "      <td>Technology, Operations, Security, Evocative, I...</td>\n",
       "      <td>NaN</td>\n",
       "    </tr>\n",
       "  </tbody>\n",
       "</table>\n",
       "</div>"
      ],
      "text/plain": [
       "         nid           name  total_price  \\\n",
       "18610  85346  incryptic.com         3475   \n",
       "\n",
       "                                             description  \\\n",
       "18610  In Cryptic: A stealthy name that implies impli...   \n",
       "\n",
       "                                           possible uses  \\\n",
       "18610  A security firm. An operational tool. A techno...   \n",
       "\n",
       "                                              categories keywords  \n",
       "18610  Technology, Operations, Security, Evocative, I...      NaN  "
      ]
     },
     "execution_count": 203,
     "metadata": {},
     "output_type": "execute_result"
    }
   ],
   "source": [
    "dataset = pd.read_csv('../data/domains_list.csv', header=0)\n",
    "\n",
    "# Display top 10 entries\n",
    "\n",
    "dataset.loc[dataset['name'] == 'incryptic.com']"
   ]
  },
  {
   "cell_type": "code",
   "execution_count": 176,
   "metadata": {},
   "outputs": [],
   "source": [
    "# Make set out of keywords column\n",
    "keywords_set.replace({NaN: '', np.nan: ''})\n",
    "keywords_set = dataset['keywords'].replace(np.nan, '').str.split(', ')\n",
    "keywords_set = keywords_set.tolist()\n",
    "keywords_set = set([key for keys in keywords_set for key in keys])"
   ]
  },
  {
   "cell_type": "code",
   "execution_count": 177,
   "metadata": {},
   "outputs": [],
   "source": [
    "# Create a dictionary mapping name - list of keywords\n",
    "brand_keyword_dict = dict(zip(dataset['name'], dataset['keywords'].str.split(', ')))\n",
    "\n",
    "# Create a dictionary mapping keyword - id [0:number of keywords]\n",
    "keyword_positions = dict(zip(keywords_set, range(len(keywords_set))))"
   ]
  },
  {
   "cell_type": "code",
   "execution_count": 178,
   "metadata": {},
   "outputs": [
    {
     "data": {
      "text/plain": [
       "(48423, 21816)"
      ]
     },
     "execution_count": 178,
     "metadata": {},
     "output_type": "execute_result"
    }
   ],
   "source": [
    "# Make\n",
    "brand_keyword_mat = np.zeros((dataset['name'].shape[0], len(keywords_set)), dtype=np.int8)\n",
    "brand_keyword_mat.shape"
   ]
  },
  {
   "cell_type": "code",
   "execution_count": 198,
   "metadata": {},
   "outputs": [
    {
     "name": "stdout",
     "output_type": "stream",
     "text": [
      "nan\n",
      "incryptic.com\n"
     ]
    }
   ],
   "source": [
    "for name_id in dataset.index:\n",
    "    #print(dataset.name[name_id])\n",
    "    if type(brand_keyword_dict[dataset.name[name_id]])==float:\n",
    "        print(brand_keyword_dict[dataset.name[name_id]])\n",
    "        print(dataset.name[name_id])\n",
    "#     for keyword in brand_keyword_dict[dataset.name[name_id]]:\n",
    "# #         brand_keyword_mat[name_id, keyword_positions[keyword]] = 1\n",
    "#         pass"
   ]
  },
  {
   "cell_type": "code",
   "execution_count": 185,
   "metadata": {},
   "outputs": [
    {
     "data": {
      "text/plain": [
       "False"
      ]
     },
     "execution_count": 185,
     "metadata": {},
     "output_type": "execute_result"
    }
   ],
   "source": []
  },
  {
   "cell_type": "code",
   "execution_count": null,
   "metadata": {},
   "outputs": [],
   "source": []
  }
 ],
 "metadata": {
  "kernelspec": {
   "display_name": "Python 2",
   "language": "python",
   "name": "python2"
  },
  "language_info": {
   "codemirror_mode": {
    "name": "ipython",
    "version": 2
   },
   "file_extension": ".py",
   "mimetype": "text/x-python",
   "name": "python",
   "nbconvert_exporter": "python",
   "pygments_lexer": "ipython2",
   "version": "2.7.14"
  }
 },
 "nbformat": 4,
 "nbformat_minor": 2
}
