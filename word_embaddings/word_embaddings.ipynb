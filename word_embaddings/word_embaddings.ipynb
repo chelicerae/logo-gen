{
 "cells": [
  {
   "cell_type": "code",
   "execution_count": 226,
   "metadata": {},
   "outputs": [],
   "source": [
    "import pandas as pd\n",
    "import numpy as np"
   ]
  },
  {
   "cell_type": "code",
   "execution_count": 227,
   "metadata": {},
   "outputs": [
    {
     "data": {
      "text/html": [
       "<div>\n",
       "<style scoped>\n",
       "    .dataframe tbody tr th:only-of-type {\n",
       "        vertical-align: middle;\n",
       "    }\n",
       "\n",
       "    .dataframe tbody tr th {\n",
       "        vertical-align: top;\n",
       "    }\n",
       "\n",
       "    .dataframe thead th {\n",
       "        text-align: right;\n",
       "    }\n",
       "</style>\n",
       "<table border=\"1\" class=\"dataframe\">\n",
       "  <thead>\n",
       "    <tr style=\"text-align: right;\">\n",
       "      <th></th>\n",
       "      <th>nid</th>\n",
       "      <th>name</th>\n",
       "      <th>total_price</th>\n",
       "      <th>description</th>\n",
       "      <th>possible uses</th>\n",
       "      <th>categories</th>\n",
       "      <th>keywords</th>\n",
       "    </tr>\n",
       "  </thead>\n",
       "  <tbody>\n",
       "    <tr>\n",
       "      <th>0</th>\n",
       "      <td>9678</td>\n",
       "      <td>zoombyte.com</td>\n",
       "      <td>2155</td>\n",
       "      <td>A name that combines speed and computers.</td>\n",
       "      <td>A network acceleration product. A cable modem.</td>\n",
       "      <td>Hardware, Social, Data, IT</td>\n",
       "      <td>speed, technology, IT, internet, data, network...</td>\n",
       "    </tr>\n",
       "    <tr>\n",
       "      <th>1</th>\n",
       "      <td>9684</td>\n",
       "      <td>zonega.com</td>\n",
       "      <td>1395</td>\n",
       "      <td>A unique name with an exotic sound. \"Zone\" can...</td>\n",
       "      <td>A DMZ/IDS network security product that protec...</td>\n",
       "      <td>6-Letter, Travel, Security, Insurance</td>\n",
       "      <td>travel, research, privacy, security, politics,...</td>\n",
       "    </tr>\n",
       "    <tr>\n",
       "      <th>2</th>\n",
       "      <td>9688</td>\n",
       "      <td>zinego.com</td>\n",
       "      <td>1095</td>\n",
       "      <td>An exotic-sounding name. \"Go\" can represent tr...</td>\n",
       "      <td>A web magazine or news portal. A restaurant an...</td>\n",
       "      <td>6-Letter, Travel, Food, News, Nutrition</td>\n",
       "      <td>adventure, travel, reviews, animals, research,...</td>\n",
       "    </tr>\n",
       "    <tr>\n",
       "      <th>3</th>\n",
       "      <td>9700</td>\n",
       "      <td>yumpod.com</td>\n",
       "      <td>1095</td>\n",
       "      <td>\"Yum\" can refer to more than just food. Anythi...</td>\n",
       "      <td>A podcast to food, entertainment news, pop mus...</td>\n",
       "      <td>6-Letter, Multimedia, News, Music, Kids, Socia...</td>\n",
       "      <td>food, fun, reviews, cool, restaurants, games, ...</td>\n",
       "    </tr>\n",
       "    <tr>\n",
       "      <th>4</th>\n",
       "      <td>9712</td>\n",
       "      <td>yopod.com</td>\n",
       "      <td>4995</td>\n",
       "      <td>A fun and catchy name that sounds like \"your\" ...</td>\n",
       "      <td>An accessories site for Apple's iPod product.</td>\n",
       "      <td>5-Letter, Shopping, Music, Evocative, Family, ...</td>\n",
       "      <td>music, blogs, cool, opinions, small, urban, so...</td>\n",
       "    </tr>\n",
       "    <tr>\n",
       "      <th>5</th>\n",
       "      <td>9714</td>\n",
       "      <td>xierra.com</td>\n",
       "      <td>1995</td>\n",
       "      <td>A brand that elicits nature and the outdoors (...</td>\n",
       "      <td>An outdoor/active clothing company. An adventu...</td>\n",
       "      <td>6-Letter, Travel, Shopping, Operations, Green,...</td>\n",
       "      <td>sports, adventure, excitement, extreme, travel...</td>\n",
       "    </tr>\n",
       "    <tr>\n",
       "      <th>6</th>\n",
       "      <td>9722</td>\n",
       "      <td>whipix.com</td>\n",
       "      <td>5295</td>\n",
       "      <td>A name that indicates speed and technology.</td>\n",
       "      <td>A NIX-based operating system. A network perfor...</td>\n",
       "      <td>6-Letter, Hardware, Operations, Health, Green,...</td>\n",
       "      <td>energy, speed, metrics, optimization, technolo...</td>\n",
       "    </tr>\n",
       "    <tr>\n",
       "      <th>7</th>\n",
       "      <td>9728</td>\n",
       "      <td>vorate.com</td>\n",
       "      <td>2695</td>\n",
       "      <td>A word made up of \"vote\" and \"rate\", two simil...</td>\n",
       "      <td>A survey engine or consumer feedback website.</td>\n",
       "      <td>6-Letter, Operations, Feedback, Web, Manufactu...</td>\n",
       "      <td>reviews, ratings, shopping, opinions, group-th...</td>\n",
       "    </tr>\n",
       "    <tr>\n",
       "      <th>8</th>\n",
       "      <td>9730</td>\n",
       "      <td>vozfon.com</td>\n",
       "      <td>1895</td>\n",
       "      <td>The Spanish words for \"voice\" and \"phone\", com...</td>\n",
       "      <td>Pre-paid calling cards. A cellular service pro...</td>\n",
       "      <td>6-Letter, Operations, Organization, Telecom, S...</td>\n",
       "      <td>mobile, phones, spanish, friends, chat, cellul...</td>\n",
       "    </tr>\n",
       "    <tr>\n",
       "      <th>9</th>\n",
       "      <td>9742</td>\n",
       "      <td>vonino.com</td>\n",
       "      <td>2595</td>\n",
       "      <td>A smart and memorable name.  Containins \"vo\" f...</td>\n",
       "      <td>A VOIP or cellular service provider. A small p...</td>\n",
       "      <td>6-Letter, Music, Telecom, Baby Boy Names</td>\n",
       "      <td>business, services, mobile, phones, cellular, ...</td>\n",
       "    </tr>\n",
       "  </tbody>\n",
       "</table>\n",
       "</div>"
      ],
      "text/plain": [
       "    nid          name  total_price  \\\n",
       "0  9678  zoombyte.com         2155   \n",
       "1  9684    zonega.com         1395   \n",
       "2  9688    zinego.com         1095   \n",
       "3  9700    yumpod.com         1095   \n",
       "4  9712     yopod.com         4995   \n",
       "5  9714    xierra.com         1995   \n",
       "6  9722    whipix.com         5295   \n",
       "7  9728    vorate.com         2695   \n",
       "8  9730    vozfon.com         1895   \n",
       "9  9742    vonino.com         2595   \n",
       "\n",
       "                                         description  \\\n",
       "0          A name that combines speed and computers.   \n",
       "1  A unique name with an exotic sound. \"Zone\" can...   \n",
       "2  An exotic-sounding name. \"Go\" can represent tr...   \n",
       "3  \"Yum\" can refer to more than just food. Anythi...   \n",
       "4  A fun and catchy name that sounds like \"your\" ...   \n",
       "5  A brand that elicits nature and the outdoors (...   \n",
       "6        A name that indicates speed and technology.   \n",
       "7  A word made up of \"vote\" and \"rate\", two simil...   \n",
       "8  The Spanish words for \"voice\" and \"phone\", com...   \n",
       "9  A smart and memorable name.  Containins \"vo\" f...   \n",
       "\n",
       "                                       possible uses  \\\n",
       "0     A network acceleration product. A cable modem.   \n",
       "1  A DMZ/IDS network security product that protec...   \n",
       "2  A web magazine or news portal. A restaurant an...   \n",
       "3  A podcast to food, entertainment news, pop mus...   \n",
       "4      An accessories site for Apple's iPod product.   \n",
       "5  An outdoor/active clothing company. An adventu...   \n",
       "6  A NIX-based operating system. A network perfor...   \n",
       "7      A survey engine or consumer feedback website.   \n",
       "8  Pre-paid calling cards. A cellular service pro...   \n",
       "9  A VOIP or cellular service provider. A small p...   \n",
       "\n",
       "                                          categories  \\\n",
       "0                         Hardware, Social, Data, IT   \n",
       "1              6-Letter, Travel, Security, Insurance   \n",
       "2            6-Letter, Travel, Food, News, Nutrition   \n",
       "3  6-Letter, Multimedia, News, Music, Kids, Socia...   \n",
       "4  5-Letter, Shopping, Music, Evocative, Family, ...   \n",
       "5  6-Letter, Travel, Shopping, Operations, Green,...   \n",
       "6  6-Letter, Hardware, Operations, Health, Green,...   \n",
       "7  6-Letter, Operations, Feedback, Web, Manufactu...   \n",
       "8  6-Letter, Operations, Organization, Telecom, S...   \n",
       "9           6-Letter, Music, Telecom, Baby Boy Names   \n",
       "\n",
       "                                            keywords  \n",
       "0  speed, technology, IT, internet, data, network...  \n",
       "1  travel, research, privacy, security, politics,...  \n",
       "2  adventure, travel, reviews, animals, research,...  \n",
       "3  food, fun, reviews, cool, restaurants, games, ...  \n",
       "4  music, blogs, cool, opinions, small, urban, so...  \n",
       "5  sports, adventure, excitement, extreme, travel...  \n",
       "6  energy, speed, metrics, optimization, technolo...  \n",
       "7  reviews, ratings, shopping, opinions, group-th...  \n",
       "8  mobile, phones, spanish, friends, chat, cellul...  \n",
       "9  business, services, mobile, phones, cellular, ...  "
      ]
     },
     "execution_count": 227,
     "metadata": {},
     "output_type": "execute_result"
    }
   ],
   "source": [
    "dataset = pd.read_csv('../data/domains_list.csv', header=0)\n",
    "dataset['keywords'] = dataset['keywords'].replace(np.nan, '')\n",
    "\n",
    "# Display top 10 entries\n",
    "dataset.head(10)"
   ]
  },
  {
   "cell_type": "code",
   "execution_count": 228,
   "metadata": {},
   "outputs": [],
   "source": [
    "# Make set out of keywords column\n",
    "keywords_set = dataset['keywords'].str.split(', ')\n",
    "keywords_set = keywords_set.tolist()\n",
    "keywords_set = set([key for keys in keywords_set for key in keys])"
   ]
  },
  {
   "cell_type": "code",
   "execution_count": 229,
   "metadata": {},
   "outputs": [],
   "source": [
    "# Create a dictionary mapping name - list of keywords\n",
    "brand_keyword_dict = dict(zip(dataset['name'], dataset['keywords'].str.split(', ')))\n",
    "\n",
    "# Create a dictionary mapping keyword - id [0:number of keywords]\n",
    "keyword_positions = dict(zip(keywords_set, range(len(keywords_set))))"
   ]
  },
  {
   "cell_type": "code",
   "execution_count": 230,
   "metadata": {},
   "outputs": [
    {
     "data": {
      "text/plain": [
       "(48423, 21816)"
      ]
     },
     "execution_count": 230,
     "metadata": {},
     "output_type": "execute_result"
    }
   ],
   "source": [
    "# Intilise matrix with zeros\n",
    "brand_keyword_mat = np.zeros((dataset['name'].shape[0], len(keywords_set)), dtype=np.int8)\n",
    "brand_keyword_mat.shape"
   ]
  },
  {
   "cell_type": "code",
   "execution_count": 231,
   "metadata": {},
   "outputs": [],
   "source": [
    "# Set positions with correct keywords to 1.\n",
    "for name_id in dataset.index:\n",
    "    for keyword in brand_keyword_dict[dataset.name[name_id]]:\n",
    "        brand_keyword_mat[name_id, keyword_positions[keyword]] = 1"
   ]
  },
  {
   "cell_type": "code",
   "execution_count": 232,
   "metadata": {},
   "outputs": [
    {
     "data": {
      "text/plain": [
       "1"
      ]
     },
     "execution_count": 232,
     "metadata": {},
     "output_type": "execute_result"
    }
   ],
   "source": [
    "brand_keyword_mat[0, keyword_positions['speed']]"
   ]
  },
  {
   "cell_type": "code",
   "execution_count": null,
   "metadata": {},
   "outputs": [],
   "source": []
  }
 ],
 "metadata": {
  "kernelspec": {
   "display_name": "Python 2",
   "language": "python",
   "name": "python2"
  },
  "language_info": {
   "codemirror_mode": {
    "name": "ipython",
    "version": 2
   },
   "file_extension": ".py",
   "mimetype": "text/x-python",
   "name": "python",
   "nbconvert_exporter": "python",
   "pygments_lexer": "ipython2",
   "version": "2.7.14"
  }
 },
 "nbformat": 4,
 "nbformat_minor": 2
}
